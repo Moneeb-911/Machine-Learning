{
 "cells": [
  {
   "cell_type": "code",
   "execution_count": 27,
   "metadata": {},
   "outputs": [],
   "source": [
    "import pandas as pd \n",
    "import numpy as np\n",
    "import seaborn as sns\n",
    "import sklearn\n",
    "from sklearn.linear_model import LinearRegression,Ridge\n",
    "import matplotlib.pyplot\n",
    "import scipy\n",
    "import numpy as np\n",
    "from sklearn.svm import SVR\n",
    "from sklearn.model_selection import train_test_split"
   ]
  },
  {
   "cell_type": "code",
   "execution_count": 3,
   "metadata": {},
   "outputs": [],
   "source": [
    "import yfinance"
   ]
  },
  {
   "cell_type": "code",
   "execution_count": 5,
   "metadata": {},
   "outputs": [
    {
     "name": "stdout",
     "output_type": "stream",
     "text": [
      "[*********************100%%**********************]  1 of 1 completed\n"
     ]
    }
   ],
   "source": [
    "stock_data=yfinance.download('NG=F','2008-01-01','2021-01-18',auto_adjust=True)"
   ]
  },
  {
   "cell_type": "code",
   "execution_count": 6,
   "metadata": {},
   "outputs": [
    {
     "data": {
      "text/html": [
       "<div>\n",
       "<style scoped>\n",
       "    .dataframe tbody tr th:only-of-type {\n",
       "        vertical-align: middle;\n",
       "    }\n",
       "\n",
       "    .dataframe tbody tr th {\n",
       "        vertical-align: top;\n",
       "    }\n",
       "\n",
       "    .dataframe thead th {\n",
       "        text-align: right;\n",
       "    }\n",
       "</style>\n",
       "<table border=\"1\" class=\"dataframe\">\n",
       "  <thead>\n",
       "    <tr style=\"text-align: right;\">\n",
       "      <th></th>\n",
       "      <th>Open</th>\n",
       "      <th>High</th>\n",
       "      <th>Low</th>\n",
       "      <th>Close</th>\n",
       "      <th>Volume</th>\n",
       "    </tr>\n",
       "  </thead>\n",
       "  <tbody>\n",
       "    <tr>\n",
       "      <th>count</th>\n",
       "      <td>3282.000000</td>\n",
       "      <td>3282.000000</td>\n",
       "      <td>3282.000000</td>\n",
       "      <td>3282.000000</td>\n",
       "      <td>3282.000000</td>\n",
       "    </tr>\n",
       "    <tr>\n",
       "      <th>mean</th>\n",
       "      <td>3.713705</td>\n",
       "      <td>3.787288</td>\n",
       "      <td>3.635038</td>\n",
       "      <td>3.707074</td>\n",
       "      <td>131397.603595</td>\n",
       "    </tr>\n",
       "    <tr>\n",
       "      <th>std</th>\n",
       "      <td>1.830425</td>\n",
       "      <td>1.865744</td>\n",
       "      <td>1.789584</td>\n",
       "      <td>1.825297</td>\n",
       "      <td>54393.040171</td>\n",
       "    </tr>\n",
       "    <tr>\n",
       "      <th>min</th>\n",
       "      <td>1.441000</td>\n",
       "      <td>1.567000</td>\n",
       "      <td>1.432000</td>\n",
       "      <td>1.482000</td>\n",
       "      <td>0.000000</td>\n",
       "    </tr>\n",
       "    <tr>\n",
       "      <th>25%</th>\n",
       "      <td>2.691250</td>\n",
       "      <td>2.736500</td>\n",
       "      <td>2.644000</td>\n",
       "      <td>2.693000</td>\n",
       "      <td>91744.250000</td>\n",
       "    </tr>\n",
       "    <tr>\n",
       "      <th>50%</th>\n",
       "      <td>3.253000</td>\n",
       "      <td>3.312000</td>\n",
       "      <td>3.183500</td>\n",
       "      <td>3.240500</td>\n",
       "      <td>126669.500000</td>\n",
       "    </tr>\n",
       "    <tr>\n",
       "      <th>75%</th>\n",
       "      <td>4.157750</td>\n",
       "      <td>4.244750</td>\n",
       "      <td>4.066750</td>\n",
       "      <td>4.152000</td>\n",
       "      <td>161490.500000</td>\n",
       "    </tr>\n",
       "    <tr>\n",
       "      <th>max</th>\n",
       "      <td>13.580000</td>\n",
       "      <td>13.694000</td>\n",
       "      <td>13.306000</td>\n",
       "      <td>13.577000</td>\n",
       "      <td>459196.000000</td>\n",
       "    </tr>\n",
       "  </tbody>\n",
       "</table>\n",
       "</div>"
      ],
      "text/plain": [
       "              Open         High          Low        Close         Volume\n",
       "count  3282.000000  3282.000000  3282.000000  3282.000000    3282.000000\n",
       "mean      3.713705     3.787288     3.635038     3.707074  131397.603595\n",
       "std       1.830425     1.865744     1.789584     1.825297   54393.040171\n",
       "min       1.441000     1.567000     1.432000     1.482000       0.000000\n",
       "25%       2.691250     2.736500     2.644000     2.693000   91744.250000\n",
       "50%       3.253000     3.312000     3.183500     3.240500  126669.500000\n",
       "75%       4.157750     4.244750     4.066750     4.152000  161490.500000\n",
       "max      13.580000    13.694000    13.306000    13.577000  459196.000000"
      ]
     },
     "execution_count": 6,
     "metadata": {},
     "output_type": "execute_result"
    }
   ],
   "source": [
    "stock_data.describe()"
   ]
  },
  {
   "cell_type": "code",
   "execution_count": 7,
   "metadata": {},
   "outputs": [
    {
     "name": "stdout",
     "output_type": "stream",
     "text": [
      "<class 'pandas.core.frame.DataFrame'>\n",
      "DatetimeIndex: 3282 entries, 2008-01-02 to 2021-01-15\n",
      "Data columns (total 5 columns):\n",
      " #   Column  Non-Null Count  Dtype  \n",
      "---  ------  --------------  -----  \n",
      " 0   Open    3282 non-null   float64\n",
      " 1   High    3282 non-null   float64\n",
      " 2   Low     3282 non-null   float64\n",
      " 3   Close   3282 non-null   float64\n",
      " 4   Volume  3282 non-null   int64  \n",
      "dtypes: float64(4), int64(1)\n",
      "memory usage: 153.8 KB\n"
     ]
    }
   ],
   "source": [
    "stock_data.info()"
   ]
  },
  {
   "cell_type": "code",
   "execution_count": 8,
   "metadata": {},
   "outputs": [
    {
     "data": {
      "text/plain": [
       "(3282, 5)"
      ]
     },
     "execution_count": 8,
     "metadata": {},
     "output_type": "execute_result"
    }
   ],
   "source": [
    "stock_data.shape"
   ]
  },
  {
   "cell_type": "code",
   "execution_count": 9,
   "metadata": {},
   "outputs": [
    {
     "data": {
      "text/html": [
       "<div>\n",
       "<style scoped>\n",
       "    .dataframe tbody tr th:only-of-type {\n",
       "        vertical-align: middle;\n",
       "    }\n",
       "\n",
       "    .dataframe tbody tr th {\n",
       "        vertical-align: top;\n",
       "    }\n",
       "\n",
       "    .dataframe thead th {\n",
       "        text-align: right;\n",
       "    }\n",
       "</style>\n",
       "<table border=\"1\" class=\"dataframe\">\n",
       "  <thead>\n",
       "    <tr style=\"text-align: right;\">\n",
       "      <th></th>\n",
       "      <th>Open</th>\n",
       "      <th>High</th>\n",
       "      <th>Low</th>\n",
       "      <th>Close</th>\n",
       "      <th>Volume</th>\n",
       "    </tr>\n",
       "    <tr>\n",
       "      <th>Date</th>\n",
       "      <th></th>\n",
       "      <th></th>\n",
       "      <th></th>\n",
       "      <th></th>\n",
       "      <th></th>\n",
       "    </tr>\n",
       "  </thead>\n",
       "  <tbody>\n",
       "    <tr>\n",
       "      <th>2021-01-11</th>\n",
       "      <td>2.600</td>\n",
       "      <td>2.811</td>\n",
       "      <td>2.589</td>\n",
       "      <td>2.747</td>\n",
       "      <td>177248</td>\n",
       "    </tr>\n",
       "    <tr>\n",
       "      <th>2021-01-12</th>\n",
       "      <td>2.794</td>\n",
       "      <td>2.899</td>\n",
       "      <td>2.718</td>\n",
       "      <td>2.753</td>\n",
       "      <td>201432</td>\n",
       "    </tr>\n",
       "    <tr>\n",
       "      <th>2021-01-13</th>\n",
       "      <td>2.737</td>\n",
       "      <td>2.826</td>\n",
       "      <td>2.708</td>\n",
       "      <td>2.727</td>\n",
       "      <td>169240</td>\n",
       "    </tr>\n",
       "    <tr>\n",
       "      <th>2021-01-14</th>\n",
       "      <td>2.742</td>\n",
       "      <td>2.791</td>\n",
       "      <td>2.660</td>\n",
       "      <td>2.666</td>\n",
       "      <td>163043</td>\n",
       "    </tr>\n",
       "    <tr>\n",
       "      <th>2021-01-15</th>\n",
       "      <td>2.672</td>\n",
       "      <td>2.800</td>\n",
       "      <td>2.636</td>\n",
       "      <td>2.737</td>\n",
       "      <td>150994</td>\n",
       "    </tr>\n",
       "  </tbody>\n",
       "</table>\n",
       "</div>"
      ],
      "text/plain": [
       "             Open   High    Low  Close  Volume\n",
       "Date                                          \n",
       "2021-01-11  2.600  2.811  2.589  2.747  177248\n",
       "2021-01-12  2.794  2.899  2.718  2.753  201432\n",
       "2021-01-13  2.737  2.826  2.708  2.727  169240\n",
       "2021-01-14  2.742  2.791  2.660  2.666  163043\n",
       "2021-01-15  2.672  2.800  2.636  2.737  150994"
      ]
     },
     "execution_count": 9,
     "metadata": {},
     "output_type": "execute_result"
    }
   ],
   "source": [
    "stock_data.tail()"
   ]
  },
  {
   "cell_type": "code",
   "execution_count": 10,
   "metadata": {},
   "outputs": [
    {
     "data": {
      "text/plain": [
       "Open      0\n",
       "High      0\n",
       "Low       0\n",
       "Close     0\n",
       "Volume    0\n",
       "dtype: int64"
      ]
     },
     "execution_count": 10,
     "metadata": {},
     "output_type": "execute_result"
    }
   ],
   "source": [
    "stock_data.isnull().sum()"
   ]
  },
  {
   "cell_type": "code",
   "execution_count": 11,
   "metadata": {},
   "outputs": [
    {
     "data": {
      "text/plain": [
       "<Axes: xlabel='Date'>"
      ]
     },
     "execution_count": 11,
     "metadata": {},
     "output_type": "execute_result"
    },
    {
     "data": {
      "image/png": "[encoded data removed]",
      "text/plain": [
       "<Figure size 640x480 with 1 Axes>"
      ]
     },
     "metadata": {},
     "output_type": "display_data"
    }
   ],
   "source": [
    "stock_data.plot()"
   ]
  },
  {
   "cell_type": "code",
   "execution_count": 15,
   "metadata": {},
   "outputs": [
    {
     "data": {
      "text/plain": [
       "2.611315764580529"
      ]
     },
     "execution_count": 15,
     "metadata": {},
     "output_type": "execute_result"
    }
   ],
   "source": [
    "stock_data['Close'].skew()\n",
    "# stock_data['Close'].kurtosis()"
   ]
  },
  {
   "cell_type": "code",
   "execution_count": 16,
   "metadata": {},
   "outputs": [
    {
     "data": {
      "text/plain": [
       "Open      2.609164\n",
       "High      2.593044\n",
       "Low       2.627929\n",
       "Close     2.611316\n",
       "Volume    0.863648\n",
       "dtype: float64"
      ]
     },
     "execution_count": 16,
     "metadata": {},
     "output_type": "execute_result"
    }
   ],
   "source": [
    "stock_data.skew()"
   ]
  },
  {
   "cell_type": "code",
   "execution_count": 19,
   "metadata": {},
   "outputs": [
    {
     "data": {
      "text/plain": [
       "<Axes: xlabel='Date'>"
      ]
     },
     "execution_count": 19,
     "metadata": {},
     "output_type": "execute_result"
    },
    {
     "data": {
      "image/png": "[encoded data removed]",
      "text/plain": [
       "<Figure size 640x480 with 1 Axes>"
      ]
     },
     "metadata": {},
     "output_type": "display_data"
    }
   ],
   "source": [
    "stock_data['Close'].plot()"
   ]
  },
  {
   "cell_type": "code",
   "execution_count": 20,
   "metadata": {},
   "outputs": [],
   "source": [
    "from sklearn.model_selection import GridSearchCV"
   ]
  },
  {
   "cell_type": "code",
   "execution_count": 23,
   "metadata": {},
   "outputs": [],
   "source": [
    "param_grid={'C':[1,0.1,0.01,100,10,1000],\n",
    "           'gamma':[1,0.1,0.01,0.001,0.0001],\n",
    "           'kernel':['rbf']  \n",
    "             }"
   ]
  },
  {
   "cell_type": "code",
   "execution_count": 25,
   "metadata": {},
   "outputs": [],
   "source": [
    "params=GridSearchCV(SVR(),param_grid=param_grid,refit=True,verbose=3)"
   ]
  },
  {
   "cell_type": "code",
   "execution_count": 28,
   "metadata": {},
   "outputs": [],
   "source": [
    "train_data,test_data=train_test_split(stock_data,test_size=0.2,random_state=0)"
   ]
  },
  {
   "cell_type": "code",
   "execution_count": 29,
   "metadata": {},
   "outputs": [
    {
     "data": {
      "text/plain": [
       "(2625, 5)"
      ]
     },
     "execution_count": 29,
     "metadata": {},
     "output_type": "execute_result"
    }
   ],
   "source": [
    "train_data.shape"
   ]
  },
  {
   "cell_type": "code",
   "execution_count": 30,
   "metadata": {},
   "outputs": [
    {
     "data": {
      "text/plain": [
       "(657, 5)"
      ]
     },
     "execution_count": 30,
     "metadata": {},
     "output_type": "execute_result"
    }
   ],
   "source": [
    "test_data.shape"
   ]
  },
  {
   "cell_type": "code",
   "execution_count": 31,
   "metadata": {},
   "outputs": [],
   "source": [
    "train_y=train_data['Close']\n",
    "train_data=train_data.drop('Close',axis=1)"
   ]
  },
  {
   "cell_type": "code",
   "execution_count": 32,
   "metadata": {},
   "outputs": [],
   "source": [
    "test_y=test_data['Close']\n",
    "test_data=test_data.drop('Close',axis=1)"
   ]
  },
  {
   "cell_type": "code",
   "execution_count": 33,
   "metadata": {},
   "outputs": [
    {
     "data": {
      "text/html": [
       "<style>#sk-container-id-2 {color: black;}#sk-container-id-2 pre{padding: 0;}#sk-container-id-2 div.sk-toggleable {background-color: white;}#sk-container-id-2 label.sk-toggleable__label {cursor: pointer;display: block;width: 100%;margin-bottom: 0;padding: 0.3em;box-sizing: border-box;text-align: center;}#sk-container-id-2 label.sk-toggleable__label-arrow:before {content: \"▸\";float: left;margin-right: 0.25em;color: #696969;}#sk-container-id-2 label.sk-toggleable__label-arrow:hover:before {color: black;}#sk-container-id-2 div.sk-estimator:hover label.sk-toggleable__label-arrow:before {color: black;}#sk-container-id-2 div.sk-toggleable__content {max-height: 0;max-width: 0;overflow: hidden;text-align: left;background-color: #f0f8ff;}#sk-container-id-2 div.sk-toggleable__content pre {margin: 0.2em;color: black;border-radius: 0.25em;background-color: #f0f8ff;}#sk-container-id-2 input.sk-toggleable__control:checked~div.sk-toggleable__content {max-height: 200px;max-width: 100%;overflow: auto;}#sk-container-id-2 input.sk-toggleable__control:checked~label.sk-toggleable__label-arrow:before {content: \"▾\";}#sk-container-id-2 div.sk-estimator input.sk-toggleable__control:checked~label.sk-toggleable__label {background-color: #d4ebff;}#sk-container-id-2 div.sk-label input.sk-toggleable__control:checked~label.sk-toggleable__label {background-color: #d4ebff;}#sk-container-id-2 input.sk-hidden--visually {border: 0;clip: rect(1px 1px 1px 1px);clip: rect(1px, 1px, 1px, 1px);height: 1px;margin: -1px;overflow: hidden;padding: 0;position: absolute;width: 1px;}#sk-container-id-2 div.sk-estimator {font-family: monospace;background-color: #f0f8ff;border: 1px dotted black;border-radius: 0.25em;box-sizing: border-box;margin-bottom: 0.5em;}#sk-container-id-2 div.sk-estimator:hover {background-color: #d4ebff;}#sk-container-id-2 div.sk-parallel-item::after {content: \"\";width: 100%;border-bottom: 1px solid gray;flex-grow: 1;}#sk-container-id-2 div.sk-label:hover label.sk-toggleable__label {background-color: #d4ebff;}#sk-container-id-2 div.sk-serial::before {content: \"\";position: absolute;border-left: 1px solid gray;box-sizing: border-box;top: 0;bottom: 0;left: 50%;z-index: 0;}#sk-container-id-2 div.sk-serial {display: flex;flex-direction: column;align-items: center;background-color: white;padding-right: 0.2em;padding-left: 0.2em;position: relative;}#sk-container-id-2 div.sk-item {position: relative;z-index: 1;}#sk-container-id-2 div.sk-parallel {display: flex;align-items: stretch;justify-content: center;background-color: white;position: relative;}#sk-container-id-2 div.sk-item::before, #sk-container-id-2 div.sk-parallel-item::before {content: \"\";position: absolute;border-left: 1px solid gray;box-sizing: border-box;top: 0;bottom: 0;left: 50%;z-index: -1;}#sk-container-id-2 div.sk-parallel-item {display: flex;flex-direction: column;z-index: 1;position: relative;background-color: white;}#sk-container-id-2 div.sk-parallel-item:first-child::after {align-self: flex-end;width: 50%;}#sk-container-id-2 div.sk-parallel-item:last-child::after {align-self: flex-start;width: 50%;}#sk-container-id-2 div.sk-parallel-item:only-child::after {width: 0;}#sk-container-id-2 div.sk-dashed-wrapped {border: 1px dashed gray;margin: 0 0.4em 0.5em 0.4em;box-sizing: border-box;padding-bottom: 0.4em;background-color: white;}#sk-container-id-2 div.sk-label label {font-family: monospace;font-weight: bold;display: inline-block;line-height: 1.2em;}#sk-container-id-2 div.sk-label-container {text-align: center;}#sk-container-id-2 div.sk-container {/* jupyter's `normalize.less` sets `[hidden] { display: none; }` but bootstrap.min.css set `[hidden] { display: none !important; }` so we also need the `!important` here to be able to override the default hidden behavior on the sphinx rendered scikit-learn.org. See: https://github.com/scikit-learn/scikit-learn/issues/21755 */display: inline-block !important;position: relative;}#sk-container-id-2 div.sk-text-repr-fallback {display: none;}</style><div id=\"sk-container-id-2\" class=\"sk-top-container\"><div class=\"sk-text-repr-fallback\"><pre>GridSearchCV(estimator=SVR(),\n",
       "             param_grid={&#x27;C&#x27;: [1, 0.1, 0.01, 100, 10, 1000],\n",
       "                         &#x27;gamma&#x27;: [1, 0.1, 0.01, 0.001, 0.0001],\n",
       "                         &#x27;kernel&#x27;: [&#x27;rbf&#x27;]})</pre><b>In a Jupyter environment, please rerun this cell to show the HTML representation or trust the notebook. <br />On GitHub, the HTML representation is unable to render, please try loading this page with nbviewer.org.</b></div><div class=\"sk-container\" hidden><div class=\"sk-item sk-dashed-wrapped\"><div class=\"sk-label-container\"><div class=\"sk-label sk-toggleable\"><input class=\"sk-toggleable__control sk-hidden--visually\" id=\"sk-estimator-id-4\" type=\"checkbox\" ><label for=\"sk-estimator-id-4\" class=\"sk-toggleable__label sk-toggleable__label-arrow\">GridSearchCV</label><div class=\"sk-toggleable__content\"><pre>GridSearchCV(estimator=SVR(),\n",
       "             param_grid={&#x27;C&#x27;: [1, 0.1, 0.01, 100, 10, 1000],\n",
       "                         &#x27;gamma&#x27;: [1, 0.1, 0.01, 0.001, 0.0001],\n",
       "                         &#x27;kernel&#x27;: [&#x27;rbf&#x27;]})</pre></div></div></div><div class=\"sk-parallel\"><div class=\"sk-parallel-item\"><div class=\"sk-item\"><div class=\"sk-label-container\"><div class=\"sk-label sk-toggleable\"><input class=\"sk-toggleable__control sk-hidden--visually\" id=\"sk-estimator-id-5\" type=\"checkbox\" ><label for=\"sk-estimator-id-5\" class=\"sk-toggleable__label sk-toggleable__label-arrow\">estimator: SVR</label><div class=\"sk-toggleable__content\"><pre>SVR()</pre></div></div></div><div class=\"sk-serial\"><div class=\"sk-item\"><div class=\"sk-estimator sk-toggleable\"><input class=\"sk-toggleable__control sk-hidden--visually\" id=\"sk-estimator-id-6\" type=\"checkbox\" ><label for=\"sk-estimator-id-6\" class=\"sk-toggleable__label sk-toggleable__label-arrow\">SVR</label><div class=\"sk-toggleable__content\"><pre>SVR()</pre></div></div></div></div></div></div></div></div></div></div>"
      ],
      "text/plain": [
       "GridSearchCV(estimator=SVR(),\n",
       "             param_grid={'C': [1, 0.1, 0.01, 100, 10, 1000],\n",
       "                         'gamma': [1, 0.1, 0.01, 0.001, 0.0001],\n",
       "                         'kernel': ['rbf']})"
      ]
     },
     "execution_count": 33,
     "metadata": {},
     "output_type": "execute_result"
    }
   ],
   "source": [
    "params.fit(train_data,train_y)"
   ]
  },
  {
   "cell_type": "code",
   "execution_count": 34,
   "metadata": {},
   "outputs": [
    {
     "data": {
      "text/plain": [
       "{'C': 100, 'gamma': 0.01, 'kernel': 'rbf'}"
      ]
     },
     "execution_count": 34,
     "metadata": {},
     "output_type": "execute_result"
    }
   ],
   "source": [
    "params.best_params_"
   ]
  },
  {
   "cell_type": "code",
   "execution_count": 36,
   "metadata": {},
   "outputs": [],
   "source": [
    "res=params.predict(test_data)"
   ]
  },
  {
   "cell_type": "code",
   "execution_count": 37,
   "metadata": {},
   "outputs": [
    {
     "data": {
      "text/plain": [
       "array([3.7636594 , 3.7636594 , 3.76230047, 3.7636594 , 3.24662595,\n",
       "       3.7636594 , 3.81858881, 3.76365939, 3.7636594 , 3.17663649,\n",
       "       2.79635778, 3.69380229, 2.71646624, 3.7636594 , 3.763641  ,\n",
       "       3.69184436, 3.7636594 , 3.7636594 , 3.81907348, 3.76340839,\n",
       "       3.75006374, 3.76728774, 3.7636594 , 2.46585631, 3.7636594 ,\n",
       "       3.7636594 , 3.7636594 , 3.7659998 , 3.76364364, 3.45570794,\n",
       "       3.76021819, 3.76036978, 3.7636594 , 3.01765259, 3.76371006,\n",
       "       4.20837332, 3.7636594 , 3.7636594 , 3.7636594 , 3.5993751 ,\n",
       "       3.76365892, 3.22674924, 3.76070891, 3.7636594 , 3.7636594 ,\n",
       "       3.56999788, 4.91159594, 3.83623486, 3.78160489, 3.76367549,\n",
       "       3.76364198, 3.7636594 , 3.74574784, 3.7636594 , 3.76367536,\n",
       "       3.7636594 , 3.7636594 , 3.74389011, 3.7636594 , 3.7636594 ,\n",
       "       3.7636594 , 2.91719588, 2.90585277, 3.72944159, 3.7636594 ,\n",
       "       3.75976023, 3.7636594 , 3.76087993, 3.7636594 , 3.76365939,\n",
       "       3.76365942, 3.76101064, 4.04958893, 3.7636594 , 3.76352812,\n",
       "       3.7636594 , 3.7638011 , 3.7636594 , 3.7636594 , 3.12047674,\n",
       "       3.7636594 , 3.46526554, 3.7636594 , 3.6915523 , 2.86770187,\n",
       "       3.7636594 , 3.7636594 , 3.68556179, 3.76371583, 3.7636594 ,\n",
       "       3.7636594 , 3.7635187 , 3.73495443, 3.76842447, 3.7636594 ,\n",
       "       3.7636594 , 3.76364356, 3.7636594 , 3.7636594 , 3.72754952,\n",
       "       3.7636594 , 3.76364816, 3.7636594 , 2.37071957, 3.29078878,\n",
       "       2.89086304, 6.18442201, 3.7636594 , 2.90661156, 2.47139887,\n",
       "       4.67348248, 3.7166512 , 3.7636594 , 3.76362557, 3.76645894,\n",
       "       3.7657516 , 3.56301694, 3.7636594 , 3.7636594 , 3.76176963,\n",
       "       3.7636594 , 3.67092812, 3.7636594 , 3.76383228, 3.76366046,\n",
       "       3.76365813, 3.7636594 , 3.7636594 , 3.7636594 , 3.62427839,\n",
       "       3.7636594 , 3.7636594 , 3.832321  , 3.76365936, 3.76371755,\n",
       "       3.82899281, 3.78805529, 3.76364703, 2.702468  , 3.7636594 ,\n",
       "       3.76365933, 3.75147257, 3.7636594 , 3.7636594 , 3.76366507,\n",
       "       3.7636594 , 3.77006206, 3.96553517, 3.7636594 , 3.7456827 ,\n",
       "       3.76369061, 3.7764831 , 3.76365934, 3.7636594 , 3.76366205,\n",
       "       3.76463785, 4.16658125, 3.76311803, 3.10255674, 4.00340415,\n",
       "       3.7636594 , 3.76365518, 3.76365604, 3.7636594 , 3.85373062,\n",
       "       3.76359605, 3.76360511, 3.76162927, 3.65514967, 3.7636594 ,\n",
       "       3.59909912, 3.16225024, 3.7636594 , 3.76365992, 4.79358261,\n",
       "       3.7636594 , 3.7636594 , 3.7636594 , 3.7636594 , 3.64256777,\n",
       "       3.7526648 , 3.7636594 , 3.44269423, 3.7636594 , 3.359953  ,\n",
       "       3.7636594 , 3.7636594 , 3.7636594 , 3.7636594 , 5.29695708,\n",
       "       3.75889817, 3.76203473, 3.76302735, 3.7636594 , 4.23847751,\n",
       "       3.76365943, 5.67585474, 3.7636594 , 3.7636594 , 3.54992177,\n",
       "       3.76365912, 3.74288336, 3.26240928, 3.77020829, 3.76365851,\n",
       "       3.76365766, 3.7636594 , 3.7636594 , 3.7636594 , 2.77021898,\n",
       "       3.65052973, 3.66921286, 3.7628021 , 3.66210986, 3.76063807,\n",
       "       3.65251261, 2.85829029, 3.76650333, 3.15949085, 5.00496176,\n",
       "       3.23036965, 3.7636594 , 3.76433241, 3.25606983, 3.76351042,\n",
       "       3.7636594 , 3.48209315, 3.70009479, 4.20557899, 3.7636594 ,\n",
       "       2.47642709, 3.7636594 , 3.76365938, 3.06064726, 3.76496895,\n",
       "       6.07844505, 3.7636594 , 3.76260675, 3.7636594 , 3.73614697,\n",
       "       3.7636594 , 3.76411037, 3.76308249, 3.7636591 , 3.61643025,\n",
       "       3.83804578, 3.7636594 , 3.76384599, 3.85809048, 2.45313304,\n",
       "       3.76693247, 3.7636594 , 3.76512268, 3.7636594 , 3.76368803,\n",
       "       3.7636594 , 4.47410814, 3.76667233, 4.19279076, 3.76366215,\n",
       "       3.60759365, 3.76452068, 3.76153343, 4.26105995, 3.7636594 ,\n",
       "       3.7636594 , 3.7636594 , 3.7636594 , 3.76365873, 3.23929389,\n",
       "       3.13683487, 3.76105587, 3.7636594 , 3.7636594 , 3.76365939,\n",
       "       3.75437429, 3.7636594 , 3.7636594 , 3.87841964, 3.7636594 ,\n",
       "       3.75357108, 3.7636594 , 3.7636594 , 2.78891874, 3.76365922,\n",
       "       3.76371642, 3.7636594 , 4.04747296, 3.73853539, 4.12291305,\n",
       "       3.7636594 , 3.7636594 , 4.21511215, 3.76193947, 3.76365105,\n",
       "       3.81852812, 2.43501478, 4.63157724, 3.73276184, 3.76365742,\n",
       "       3.75876036, 3.76365939, 2.80887155, 3.52801933, 3.76365942,\n",
       "       3.76240735, 3.70874462, 3.7636594 , 3.78597394, 3.76514273,\n",
       "       3.76365978, 3.74351004, 3.7636594 , 3.7636594 , 3.74600207,\n",
       "       3.66338564, 3.76362103, 3.7636594 , 3.77190265, 3.7636594 ,\n",
       "       3.76365952, 3.7636594 , 3.76365789, 3.74197409, 5.09334406,\n",
       "       3.7636594 , 3.7636109 , 3.7636594 , 3.7636594 , 3.76366092,\n",
       "       3.7636594 , 3.7636594 , 3.7636594 , 3.7636594 , 2.88573145,\n",
       "       3.45890982, 3.13787627, 3.7636594 , 2.79533738, 2.90721775,\n",
       "       3.33298656, 3.76324384, 3.76365374, 3.7636594 , 3.7636594 ,\n",
       "       3.7636594 , 3.76276793, 3.7636594 , 2.91256978, 3.70191218,\n",
       "       3.76365939, 4.29817411, 3.7636548 , 3.53310996, 3.76519976,\n",
       "       3.72510299, 3.7636594 , 3.7636594 , 3.75794462, 4.97207162,\n",
       "       3.54746473, 3.5587346 , 3.7636594 , 3.7636594 , 3.76096498,\n",
       "       3.7636594 , 3.87101805, 3.7636594 , 3.13437556, 3.76365942,\n",
       "       3.74423144, 3.7636594 , 3.89127221, 3.7636594 , 3.76351975,\n",
       "       3.7636594 , 3.59136808, 3.2499359 , 3.7636594 , 3.7636594 ,\n",
       "       3.65299455, 4.15584084, 2.81729729, 3.7636594 , 3.78872807,\n",
       "       4.01851046, 3.75979134, 3.75766094, 4.76653902, 3.74509845,\n",
       "       3.7636594 , 3.76354442, 3.7636594 , 3.7636594 , 3.7636594 ,\n",
       "       3.7636594 , 3.7636594 , 3.76365911, 3.7636594 , 3.7636594 ,\n",
       "       4.16867466, 3.76361122, 4.08179902, 3.76294935, 4.11628332,\n",
       "       3.78494116, 3.7636594 , 3.7636594 , 2.69113194, 3.76378471,\n",
       "       4.13804183, 3.76357691, 3.76323685, 5.24252707, 3.76365959,\n",
       "       3.76365969, 3.9216372 , 3.76357668, 3.74614683, 4.156808  ,\n",
       "       3.19595486, 3.7636594 , 3.91987547, 3.76317558, 3.7636594 ,\n",
       "       3.7636594 , 3.98823893, 3.7637044 , 3.7636594 , 3.76365582,\n",
       "       3.20399165, 3.76365912, 3.7636594 , 3.76365937, 3.73495784,\n",
       "       3.9184273 , 3.7007136 , 3.76674386, 3.7636594 , 3.7636594 ,\n",
       "       4.25340657, 4.07128234, 3.69800736, 3.7636594 , 3.82565228,\n",
       "       3.76366136, 3.7636594 , 3.7636594 , 2.52270139, 3.7636594 ,\n",
       "       3.76340522, 3.76365941, 3.46442074, 3.7636594 , 3.7636594 ,\n",
       "       3.28933197, 4.09709841, 3.76050571, 2.85512554, 3.7636594 ,\n",
       "       3.7636594 , 3.79524402, 3.6724848 , 3.7636474 , 3.75205955,\n",
       "       3.76365781, 3.80106167, 3.7636594 , 3.7636594 , 3.827927  ,\n",
       "       3.7636594 , 3.7636594 , 3.76308175, 4.0404393 , 2.62622965,\n",
       "       3.7636594 , 3.7636594 , 3.90411377, 3.76369565, 3.76637759,\n",
       "       3.42890595, 3.7636594 , 3.7636594 , 3.76361362, 3.76365917,\n",
       "       3.76463061, 3.76365935, 3.7636594 , 3.7636594 , 3.76136781,\n",
       "       3.92392433, 3.76286177, 3.63249463, 3.76365915, 3.7636594 ,\n",
       "       3.60953224, 3.13569728, 3.71993052, 3.73314752, 3.76365938,\n",
       "       3.7636594 , 3.7636594 , 3.7636594 , 3.98416535, 3.7636594 ,\n",
       "       3.7636528 , 3.7636594 , 3.7636594 , 3.7636594 , 3.44599106,\n",
       "       2.68520861, 4.31244566, 3.75852989, 3.386397  , 4.21725717,\n",
       "       3.74435492, 3.73643883, 3.26673305, 3.69594351, 3.7636594 ,\n",
       "       3.76452856, 3.37386725, 3.76365849, 4.88128543, 3.7636594 ,\n",
       "       3.66034016, 3.76366221, 3.7636594 , 4.63126441, 3.7636594 ,\n",
       "       3.75670739, 2.15045792, 3.76365944, 3.76360501, 3.58690617,\n",
       "       3.48006158, 3.5014514 , 3.8913479 , 4.41880694, 3.76383773,\n",
       "       3.7636594 , 3.7636594 , 3.76402596, 3.7266778 , 4.67840948,\n",
       "       3.54716074, 3.76365893, 3.7636594 , 3.75615731, 3.887665  ,\n",
       "       3.65279018, 3.7636594 , 3.7636594 , 3.02654196, 3.76365904,\n",
       "       3.7636594 , 3.74392699, 3.82202313, 3.70895872, 4.12096636,\n",
       "       3.76358511, 2.09388701, 3.9760847 , 2.21606539, 3.7636594 ,\n",
       "       3.7636594 , 3.7636594 , 3.75549505, 3.73812453, 3.97885159,\n",
       "       3.7636594 , 3.7636594 , 3.76365804, 3.91609244, 3.74443363,\n",
       "       2.26576899, 3.7636594 , 3.7636594 , 3.7636594 , 3.76362368,\n",
       "       3.76366595, 3.7636594 , 3.76352302, 3.7636594 , 2.99997   ,\n",
       "       3.7636594 , 3.7636594 , 3.96193097, 3.76435088, 3.7636594 ,\n",
       "       3.7636594 , 4.33240455, 3.76395056, 3.76228917, 3.940834  ,\n",
       "       3.76365939, 3.7636594 , 3.7636594 , 3.7604568 , 3.76389616,\n",
       "       3.19298576, 3.7636594 , 3.7636594 , 3.7636629 , 3.80174406,\n",
       "       3.76359896, 3.7636594 , 3.7636594 , 3.7636592 , 3.7636594 ,\n",
       "       3.7636594 , 3.49232577, 3.44276438, 3.76366227, 4.41494295,\n",
       "       3.7636594 , 3.7636594 , 3.7636594 , 3.76365799, 3.32894303,\n",
       "       3.7636594 , 2.81091527, 3.873424  , 3.7636594 , 3.7636594 ,\n",
       "       3.75546456, 3.24240195, 3.7636594 , 3.7636594 , 3.77771589,\n",
       "       3.7636594 , 3.76355322, 3.76420688, 3.78931861, 3.08397692,\n",
       "       3.7636594 , 3.7636594 , 3.6953546 , 3.7636594 , 3.76365385,\n",
       "       3.7636594 , 3.7636594 , 3.7636594 , 3.76155631, 3.75624045,\n",
       "       3.49341433, 3.77049982, 3.76342894, 3.76365859, 3.7636594 ,\n",
       "       3.7636594 , 3.7636594 , 4.23769814, 4.08140693, 3.71714972,\n",
       "       3.7636594 , 3.7636594 ])"
      ]
     },
     "execution_count": 37,
     "metadata": {},
     "output_type": "execute_result"
    }
   ],
   "source": [
    "res"
   ]
  },
  {
   "cell_type": "code",
   "execution_count": 38,
   "metadata": {},
   "outputs": [
    {
     "data": {
      "text/plain": [
       "Date\n",
       "2012-09-10    2.812\n",
       "2009-12-23    5.821\n",
       "2015-02-04    2.662\n",
       "2009-12-28    5.990\n",
       "2019-08-07    2.083\n",
       "              ...  \n",
       "2016-12-28    3.930\n",
       "2013-02-12    3.230\n",
       "2013-09-16    3.738\n",
       "2019-04-22    2.524\n",
       "2010-05-21    4.035\n",
       "Name: Close, Length: 657, dtype: float64"
      ]
     },
     "execution_count": 38,
     "metadata": {},
     "output_type": "execute_result"
    }
   ],
   "source": [
    "test_y"
   ]
  },
  {
   "cell_type": "code",
   "execution_count": 40,
   "metadata": {},
   "outputs": [
    {
     "data": {
      "text/plain": [
       "2.708212694141597"
      ]
     },
     "execution_count": 40,
     "metadata": {},
     "output_type": "execute_result"
    }
   ],
   "source": [
    "from sklearn.metrics import mean_squared_error\n",
    "mean_squared_error(res,test_y)"
   ]
  }
 ],
 "metadata": {
  "kernelspec": {
   "display_name": "Python 3",
   "language": "python",
   "name": "python3"
  },
  "language_info": {
   "codemirror_mode": {
    "name": "ipython",
    "version": 3
   },
   "file_extension": ".py",
   "mimetype": "text/x-python",
   "name": "python",
   "nbconvert_exporter": "python",
   "pygments_lexer": "ipython3",
   "version": "3.11.4"
  },
  "orig_nbformat": 4
 },
 "nbformat": 4,
 "nbformat_minor": 2
}
