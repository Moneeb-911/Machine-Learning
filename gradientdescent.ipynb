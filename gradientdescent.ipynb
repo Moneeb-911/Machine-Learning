{
 "cells": [
  {
   "cell_type": "code",
   "execution_count": 1,
   "metadata": {},
   "outputs": [],
   "source": [
    "import numpy as np\n",
    "import cv2 as cv\n",
    "import pandas as pd"
   ]
  },
  {
   "cell_type": "code",
   "execution_count": 2,
   "metadata": {},
   "outputs": [],
   "source": [
    "x1=np.array([1,2,3,4,5,6,7,8,9])\n",
    "y=np.array([10,20,30,40,50,60,70,80,90])\n",
    "w1=0\n",
    "b=0\n"
   ]
  },
  {
   "cell_type": "code",
   "execution_count": 3,
   "metadata": {},
   "outputs": [],
   "source": [
    "def compute_cost(arr,y,w1,b):\n",
    "    sum1=0\n",
    "    for i in range(0,len(arr)):\n",
    "        output=w1*arr[i]+b\n",
    "        diff=y[i]-output\n",
    "        sum1=sum1+diff**2\n",
    "    \n",
    "    \n",
    "    return sum1/len(arr)\n",
    "        "
   ]
  },
  {
   "cell_type": "code",
   "execution_count": 4,
   "metadata": {},
   "outputs": [
    {
     "name": "stdout",
     "output_type": "stream",
     "text": [
      "The cost is 3166.6666666666665\n"
     ]
    }
   ],
   "source": [
    "cost=compute_cost(x1,y,w1,b)\n",
    "print(f\"The cost is {cost}\")"
   ]
  },
  {
   "cell_type": "code",
   "execution_count": 5,
   "metadata": {},
   "outputs": [],
   "source": [
    "def predict_output(x,y,w1,b):\n",
    "    return w1*x+b"
   ]
  },
  {
   "cell_type": "code",
   "execution_count": 10,
   "metadata": {},
   "outputs": [],
   "source": [
    "def compute_gradient(x1,y,w1,b):\n",
    "    alpha=0.01\n",
    "    for i in range(len(x1)):\n",
    "        total=0\n",
    "        total_b=0\n",
    "        for j in range(len(x1)):\n",
    "            output=predict_output(x1[j],y[j],w1,b)\n",
    "            total=total+((output-y[j])*x1[j])\n",
    "            total_b=total_b+(output-y[j])\n",
    "        \n",
    "        w1=w1-alpha*((1/len(x1))*total)\n",
    "        b=b-alpha*((1/len(x1))*total_b)\n",
    "    \n",
    "    return w1,b\n",
    "        \n",
    "    "
   ]
  },
  {
   "cell_type": "code",
   "execution_count": 11,
   "metadata": {},
   "outputs": [
    {
     "name": "stdout",
     "output_type": "stream",
     "text": [
      "w1 is 8.666534461857553\n",
      "b is 8.361958281186428\n"
     ]
    }
   ],
   "source": [
    "w1,b=compute_gradient(x1,y,w1,b)\n",
    "print(f\"w1 is {w1}\")\n",
    "print(f\"b is {b}\")"
   ]
  },
  {
   "cell_type": "code",
   "execution_count": 12,
   "metadata": {},
   "outputs": [
    {
     "data": {
      "text/plain": [
       "14.725975114261075"
      ]
     },
     "execution_count": 12,
     "metadata": {},
     "output_type": "execute_result"
    }
   ],
   "source": [
    "res=compute_cost(x1,y,w1,b)\n",
    "res"
   ]
  }
 ],
 "metadata": {
  "kernelspec": {
   "display_name": "Python 3",
   "language": "python",
   "name": "python3"
  },
  "language_info": {
   "codemirror_mode": {
    "name": "ipython",
    "version": 3
   },
   "file_extension": ".py",
   "mimetype": "text/x-python",
   "name": "python",
   "nbconvert_exporter": "python",
   "pygments_lexer": "ipython3",
   "version": "3.11.5"
  }
 },
 "nbformat": 4,
 "nbformat_minor": 2
}
